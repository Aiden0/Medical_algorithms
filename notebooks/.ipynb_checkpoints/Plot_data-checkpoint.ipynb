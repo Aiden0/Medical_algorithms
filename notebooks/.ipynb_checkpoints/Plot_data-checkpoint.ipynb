{
 "cells": [
  {
   "cell_type": "code",
   "execution_count": 1,
   "metadata": {},
   "outputs": [],
   "source": [
    "%matplotlib notebook\n",
    "import numpy as np\n",
    "import matplotlib.pyplot as plt\n",
    "from datetime import datetime\n",
    "import time"
   ]
  },
  {
   "cell_type": "code",
   "execution_count": 2,
   "metadata": {},
   "outputs": [],
   "source": [
    "def convert_date(unixtime):\n",
    "    ms = unixtime%1000000000\n",
    "    dt = datetime.fromtimestamp(unixtime // 1000000000)\n",
    "    return dt,ms\n",
    "\n",
    "def make_date(d,m,y):\n",
    "    s=\"{:02d}/{:02d}/{:04d}\".format(d,m,y)\n",
    "    return time.mktime(datetime.strptime(s, \"%d/%m/%Y\").timetuple())*1000000000\n",
    "\n",
    "def chop_data(data):\n",
    "    idx = []\n",
    "    flag = 1\n",
    "    for i,dat in enumerate(data):\n",
    "        dt,ms = convert_date(dat)\n",
    "        if dt.hour == 8 and flag == 1:\n",
    "            idx.append(idx)\n",
    "            flag = 0\n",
    "        else:\n",
    "            flag = 1\n",
    "    return idx\n",
    "            \n",
    "\n"
   ]
  },
  {
   "cell_type": "code",
   "execution_count": 3,
   "metadata": {
    "collapsed": true
   },
   "outputs": [],
   "source": [
    "data = np.load(\"../stat_data.npy\")\n",
    "raw = np.load(\"../data.npy\")"
   ]
  },
  {
   "cell_type": "code",
   "execution_count": 4,
   "metadata": {},
   "outputs": [],
   "source": [
    "#remove nan data\n",
    "idx = np.isnan(data[:,-1])==False\n",
    "hrv = data[idx][:,[0,-1]]\n",
    "idx = np.where(hrv[:,1] > 0)\n",
    "hrv = hrv[idx]\n",
    "\n",
    "idx = np.isnan(raw[:,-2])==False\n",
    "ppg = raw[idx][:,[0,-2]]"
   ]
  },
  {
   "cell_type": "code",
   "execution_count": 5,
   "metadata": {},
   "outputs": [],
   "source": [
    "days = []\n",
    "dt, _ = convert_date(ppg[0,0])\n",
    "for i in range(12):\n",
    "    days.append(make_date(dt.day+i,dt.month,dt.year))\n",
    "graph = np.append(np.ones(len(days)),np.ones(len(days))*40)\n",
    "days = days + days"
   ]
  },
  {
   "cell_type": "code",
   "execution_count": 7,
   "metadata": {},
   "outputs": [
    {
     "name": "stdout",
     "output_type": "stream",
     "text": [
      "3811495\n"
     ]
    }
   ],
   "source": [
    "idx = []\n",
    "for i,dat in enumerate(ppg[:,0]):\n",
    "    datetime.fromtimestamp(dat // 1000000000).day\n",
    "    idx.append(i)\n",
    "    print(i,end=\"\"\\r\")\n",
    "print(i)"
   ]
  },
  {
   "cell_type": "code",
   "execution_count": 6,
   "metadata": {},
   "outputs": [
    {
     "ename": "TypeError",
     "evalue": "only length-1 arrays can be converted to Python scalars",
     "output_type": "error",
     "traceback": [
      "\u001b[0;31m---------------------------------------------------------------------------\u001b[0m",
      "\u001b[0;31mTypeError\u001b[0m                                 Traceback (most recent call last)",
      "\u001b[0;32m<ipython-input-6-784fdba2c6ff>\u001b[0m in \u001b[0;36m<module>\u001b[0;34m()\u001b[0m\n\u001b[0;32m----> 1\u001b[0;31m \u001b[0midx\u001b[0m \u001b[0;34m=\u001b[0m \u001b[0mnp\u001b[0m\u001b[0;34m.\u001b[0m\u001b[0mwhere\u001b[0m\u001b[0;34m(\u001b[0m\u001b[0mdatetime\u001b[0m\u001b[0;34m.\u001b[0m\u001b[0mfromtimestamp\u001b[0m\u001b[0;34m(\u001b[0m\u001b[0mppg\u001b[0m\u001b[0;34m[\u001b[0m\u001b[0;34m:\u001b[0m\u001b[0;34m,\u001b[0m\u001b[0;36m0\u001b[0m\u001b[0;34m]\u001b[0m \u001b[0;34m//\u001b[0m \u001b[0;36m1000000000\u001b[0m\u001b[0;34m)\u001b[0m\u001b[0;34m.\u001b[0m\u001b[0mday\u001b[0m \u001b[0;34m==\u001b[0m \u001b[0;36m8\u001b[0m\u001b[0;34m)\u001b[0m\u001b[0;34m\u001b[0m\u001b[0m\n\u001b[0m",
      "\u001b[0;31mTypeError\u001b[0m: only length-1 arrays can be converted to Python scalars"
     ]
    }
   ],
   "source": [
    "idx = np.where(datetime.fromtimestamp(ppg[:,0] // 1000000000).day == 8)"
   ]
  },
  {
   "cell_type": "code",
   "execution_count": null,
   "metadata": {},
   "outputs": [],
   "source": [
    "np.array(idx)"
   ]
  },
  {
   "cell_type": "code",
   "execution_count": 14,
   "metadata": {},
   "outputs": [],
   "source": [
    "#plt.subplot(1,1,1)\n",
    "#plt.plot(ppg[:,0],ppg[:,-1])\n",
    "#plt.subplot(1,1,1)\n",
    "#plt.plot(hrv[:,0],hrv[:,-1],'*')\n",
    "plt.plot(days,graph,'*')\n",
    "#plt.xlim()"
   ]
  },
  {
   "cell_type": "code",
   "execution_count": null,
   "metadata": {},
   "outputs": [],
   "source": [
    "dt,ms = convert_date(ppg[0,0])\n",
    "dt"
   ]
  },
  {
   "cell_type": "code",
   "execution_count": 101,
   "metadata": {},
   "outputs": [
    {
     "data": {
      "text/plain": [
       "datetime.datetime(2017, 10, 23, 0, 0)"
      ]
     },
     "execution_count": 101,
     "metadata": {},
     "output_type": "execute_result"
    }
   ],
   "source": [
    "tmp = make_date(dt.day,dt.month,dt.year)\n",
    "dt,ms = convert_date(tmp)\n",
    "dt"
   ]
  }
 ],
 "metadata": {
  "kernelspec": {
   "display_name": "Python 3",
   "language": "python",
   "name": "python3"
  },
  "language_info": {
   "codemirror_mode": {
    "name": "ipython",
    "version": 3
   },
   "file_extension": ".py",
   "mimetype": "text/x-python",
   "name": "python",
   "nbconvert_exporter": "python",
   "pygments_lexer": "ipython3",
   "version": "3.5.2"
  }
 },
 "nbformat": 4,
 "nbformat_minor": 2
}
